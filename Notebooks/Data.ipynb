{
 "cells": [
  {
   "cell_type": "code",
   "execution_count": 26,
   "metadata": {},
   "outputs": [
    {
     "name": "stdout",
     "output_type": "stream",
     "text": [
      "✅ 取得資料成功！\n",
      "Access Data From: https://opendata.cwb.gov.tw/api/v1/rest/datastore/F-C0032-001?Authorization=CWB-BC9766BB-3B1E-4A57-8E9B-D73706D901B9&elementName=Wx&elementName=AT&elementName=T&elementName=RH&elementName=CI&elementName=WeatherDescription&elementName=PoP6h\n",
      "\n",
      "嘉義縣\n",
      "新北市\n",
      "嘉義市\n",
      "新竹縣\n",
      "新竹市\n",
      "臺北市\n",
      "臺南市\n",
      "宜蘭縣\n",
      "苗栗縣\n",
      "雲林縣\n",
      "花蓮縣\n",
      "臺中市\n",
      "臺東縣\n",
      "桃園市\n",
      "南投縣\n",
      "高雄市\n",
      "金門縣\n",
      "屏東縣\n",
      "基隆市\n",
      "澎湖縣\n",
      "彰化縣\n",
      "連江縣\n"
     ]
    }
   ],
   "source": [
    "from requests import get\n",
    "\n",
    "# 中央氣象局平台 API 相關設定\n",
    "BaseUrl = \"https://opendata.cwb.gov.tw/api\"\n",
    "DefaultQuery = {\n",
    "    \"Authorization\": \"CWB-BC9766BB-3B1E-4A57-8E9B-D73706D901B9\",\n",
    "    \"elementName\": [\"Wx\", \"AT\", \"T\", \"RH\", \"CI\", \"WeatherDescription\", \"PoP6h\"]\n",
    "}\n",
    "\n",
    "# Fetch Function\n",
    "def fetch(url, query=None):\n",
    "    # Construct Request\n",
    "    endPoint = BaseUrl + url\n",
    "    payload = {**query, **DefaultQuery} if query != None else DefaultQuery\n",
    "\n",
    "    # Make Request\n",
    "    res = get(endPoint, params=payload)\n",
    "\n",
    "    if (res.status_code == 200):\n",
    "        print(\"✅ 取得資料成功！\")\n",
    "        print(f\"Access Data From: {res.url}\\n\")\n",
    "        \n",
    "        return res.json()\n",
    "    else:\n",
    "        print(f\"{ESeq['info']}Request Failed, Forced To Exit.\")\n",
    "        exit()\n",
    "\n",
    "data = fetch(\"/v1/rest/datastore/F-C0032-001\")\n",
    "\n",
    "# Print Out Location\n",
    "for loc in data[\"records\"][\"location\"]:\n",
    "    print(loc[\"locationName\"])"
   ]
  },
  {
   "cell_type": "code",
   "execution_count": null,
   "metadata": {},
   "outputs": [],
   "source": []
  }
 ],
 "metadata": {
  "kernelspec": {
   "display_name": "Python 3",
   "language": "python",
   "name": "python3"
  },
  "language_info": {
   "codemirror_mode": {
    "name": "ipython",
    "version": 3
   },
   "file_extension": ".py",
   "mimetype": "text/x-python",
   "name": "python",
   "nbconvert_exporter": "python",
   "pygments_lexer": "ipython3",
   "version": "3.7.4"
  }
 },
 "nbformat": 4,
 "nbformat_minor": 2
}
