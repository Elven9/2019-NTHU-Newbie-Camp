{
 "cells": [
  {
   "cell_type": "markdown",
   "metadata": {},
   "source": [
    "# 變數 (Variable)\n",
    "\n",
    "Python 中使用變數長這樣：\n",
    "\n",
    "```py\n",
    "# 變數中儲存數字\n",
    "x = 10\n",
    "\n",
    "# 儲存字串\n",
    "y = \"Hello World~~\"\n",
    "```\n",
    "\n",
    "## 資料型別\n",
    "\n",
    "再介紹什麼是變數前，先來講一下什麼事資料型別。就好像現實生活中每種東西都有不同的特性，每一種資料型別都有自己獨有的操作特性。\n",
    "\n",
    "在 Python 中有好幾種型別，我們剛剛介紹的數字就是其中一種型別，這裡再多介紹一個，**字串**。\n",
    "\n",
    "### 定義格式\n",
    "\n",
    "```py\n",
    "# 這是一個字串\n",
    "name = \"John\"\n",
    "\n",
    "# 這也是個字串\n",
    "message = \"\"\"\n",
    "Lorem ipsum dolor sit amet, consectetur adipisicing elit.\n",
    "Nemo assumenda, dolorum necessitatibus eius earum voluptates sed!\n",
    "\"\"\"\n",
    "```\n",
    "\n",
    "相關連結：\n",
    "\n",
    "[Text Sequence Type](https://docs.python.org/3/library/stdtypes.html#text-sequence-type-str)"
   ]
  },
  {
   "cell_type": "code",
   "execution_count": 1,
   "metadata": {},
   "outputs": [],
   "source": [
    "# 印出字串"
   ]
  },
  {
   "cell_type": "code",
   "execution_count": 3,
   "metadata": {},
   "outputs": [],
   "source": [
    "# 印出會換行的字元"
   ]
  },
  {
   "cell_type": "code",
   "execution_count": 4,
   "metadata": {},
   "outputs": [],
   "source": [
    "# 字串相加"
   ]
  },
  {
   "cell_type": "markdown",
   "metadata": {},
   "source": [
    "## 變數\n",
    "\n",
    "### 定義格式\n",
    "\n",
    "```py\n",
    "a = 1231\n",
    "```\n",
    "\n",
    "等號左邊放的是變數的名稱，右邊放的是要輸入的值。\n",
    "\n",
    "這裡要特別注意喔**等號在這裡的意思不是左右兩邊的東西相等**，在程式語言中，**等號代表的是賦值 (Assignment) 的動作**，是把右邊的值放到左邊的物件裡面"
   ]
  },
  {
   "cell_type": "code",
   "execution_count": 5,
   "metadata": {},
   "outputs": [],
   "source": [
    "# 宣告變數"
   ]
  },
  {
   "cell_type": "code",
   "execution_count": 7,
   "metadata": {},
   "outputs": [],
   "source": [
    "# 變數賦值"
   ]
  },
  {
   "cell_type": "code",
   "execution_count": 8,
   "metadata": {},
   "outputs": [],
   "source": [
    "# 運算式"
   ]
  },
  {
   "cell_type": "code",
   "execution_count": 10,
   "metadata": {},
   "outputs": [],
   "source": [
    "# 使用變數"
   ]
  },
  {
   "cell_type": "code",
   "execution_count": null,
   "metadata": {},
   "outputs": [],
   "source": [
    "# 列印出字串數字混合字串"
   ]
  }
 ],
 "metadata": {
  "kernelspec": {
   "display_name": "Python 3",
   "language": "python",
   "name": "python3"
  },
  "language_info": {
   "codemirror_mode": {
    "name": "ipython",
    "version": 3
   },
   "file_extension": ".py",
   "mimetype": "text/x-python",
   "name": "python",
   "nbconvert_exporter": "python",
   "pygments_lexer": "ipython3",
   "version": "3.7.4"
  }
 },
 "nbformat": 4,
 "nbformat_minor": 2
}
