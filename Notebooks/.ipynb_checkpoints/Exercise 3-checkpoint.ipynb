{
 "cells": [
  {
   "cell_type": "markdown",
   "metadata": {},
   "source": [
    "# Exercise 3\n",
    "\n",
    "總共有以下幾種 Command:\n",
    "\n",
    "1. add_last\n",
    "2. add_front\n",
    "3. insert\n",
    "4. remove(data2 的 Input 會輸入元素本身的值)\n",
    "5. remove_at(data2 的 Input 會輸入目標位置)\n",
    "6. show"
   ]
  },
  {
   "cell_type": "code",
   "execution_count": 1,
   "metadata": {},
   "outputs": [
    {
     "name": "stdout",
     "output_type": "stream",
     "text": [
      "Type In Command: quit\n"
     ]
    }
   ],
   "source": [
    "my_list = []\n",
    "\n",
    "while True:\n",
    "    data1 = input(\"Type In Command: \")\n",
    "    data2 = input(\"Type Value: \")\n",
    "    \n",
    "    # 確認是什麼 Command\n",
    "    if data1 == \"quit\":\n",
    "        break\n",
    "    else:\n",
    "        print(\"Please Type In A Valid Command.\")"
   ]
  }
 ],
 "metadata": {
  "kernelspec": {
   "display_name": "Python 3",
   "language": "python",
   "name": "python3"
  },
  "language_info": {
   "codemirror_mode": {
    "name": "ipython",
    "version": 3
   },
   "file_extension": ".py",
   "mimetype": "text/x-python",
   "name": "python",
   "nbconvert_exporter": "python",
   "pygments_lexer": "ipython3",
   "version": "3.7.4"
  }
 },
 "nbformat": 4,
 "nbformat_minor": 2
}
