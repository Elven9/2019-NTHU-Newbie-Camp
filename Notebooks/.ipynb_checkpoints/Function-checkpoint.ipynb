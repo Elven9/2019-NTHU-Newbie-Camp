{
 "cells": [
  {
   "cell_type": "markdown",
   "metadata": {},
   "source": [
    "# 函式\n",
    "\n",
    "- Why Function ?\n",
    "- What a typical function looks like in programming language?\n",
    "    - in C\n",
    "    - in Js\n",
    "- `def` in python\n",
    "    - function Name\n",
    "    - function parameters\n",
    "        - default argrument\n",
    "        - `*args`\n",
    "        - `**kwargs`\n",
    "    - function return value if have\n",
    "- variable scope\n",
    "    - global variable\n",
    "    - local variable\n",
    "    \n",
    "## Python 中的 Function 定義\n",
    "\n",
    "```"
   ]
  },
  {
   "cell_type": "code",
   "execution_count": null,
   "metadata": {},
   "outputs": [],
   "source": []
  }
 ],
 "metadata": {
  "kernelspec": {
   "display_name": "Python 3",
   "language": "python",
   "name": "python3"
  },
  "language_info": {
   "codemirror_mode": {
    "name": "ipython",
    "version": 3
   },
   "file_extension": ".py",
   "mimetype": "text/x-python",
   "name": "python",
   "nbconvert_exporter": "python",
   "pygments_lexer": "ipython3",
   "version": "3.7.4"
  }
 },
 "nbformat": 4,
 "nbformat_minor": 2
}
