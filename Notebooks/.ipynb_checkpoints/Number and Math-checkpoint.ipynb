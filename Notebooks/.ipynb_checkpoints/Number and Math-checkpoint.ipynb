{
 "cells": [
  {
   "cell_type": "markdown",
   "metadata": {},
   "source": [
    "# Python 中的數學運算\n",
    "\n",
    "## 數字：第一個資料型別\n",
    "\n",
    "```py\n",
    "# 這是整數\n",
    "132\n",
    "\n",
    "# 這是浮點數 (Float Point Number)\n",
    "1.323\n",
    "```\n",
    "\n",
    "相關連結：\n",
    "- [Numeric Types](https://docs.python.org/3/library/stdtypes.html#numeric-types-int-float-complex)\n",
    "\n",
    "## 運算符號\n",
    "\n",
    "- 加號：`+`\n",
    "- 減號：`-`\n",
    "- 乘號：`*`\n",
    "- 除號：`/`\n",
    "- 餘數：`%`\n",
    "- 中括弧：`()`，表優先順序\n",
    "\n",
    "執行順序為下：\n",
    "\n",
    "1. 括弧為優先\n",
    "2. `*` 和 `/` 第二順位\n",
    "3. `+` 和 `-` 第三順位\n",
    "\n",
    "相關連結：\n",
    "- [Precedence and Associativity of Operators in Python](https://www.programiz.com/python-programming/precedence-associativity)"
   ]
  },
  {
   "cell_type": "code",
   "execution_count": null,
   "metadata": {},
   "outputs": [],
   "source": [
    "# 加法"
   ]
  },
  {
   "cell_type": "code",
   "execution_count": null,
   "metadata": {},
   "outputs": [],
   "source": [
    "# 減法"
   ]
  },
  {
   "cell_type": "code",
   "execution_count": null,
   "metadata": {},
   "outputs": [],
   "source": [
    "# 乘法"
   ]
  },
  {
   "cell_type": "code",
   "execution_count": 1,
   "metadata": {},
   "outputs": [],
   "source": [
    "# 除法"
   ]
  },
  {
   "cell_type": "code",
   "execution_count": 2,
   "metadata": {},
   "outputs": [],
   "source": [
    "# 取餘數"
   ]
  },
  {
   "cell_type": "code",
   "execution_count": 3,
   "metadata": {},
   "outputs": [],
   "source": [
    "# 複雜運算式"
   ]
  },
  {
   "cell_type": "markdown",
   "metadata": {},
   "source": [
    "# Python math 模組\n",
    "\n",
    "每個程式語言裡都有個模組做對應相關的數學運算，而 python 裡的，叫做 `math`\n",
    "\n",
    "## 使用方式\n",
    "\n",
    "要使用 math 模組的話，需要在你的程式碼開頭，加入 `import math`，告訴 Python 你要使用這個模組\n",
    "\n",
    "```py\n",
    "import math\n",
    "```\n",
    "\n",
    "接下來才可以使用裡面提供的方法\n",
    "\n",
    "## 常用方法\n",
    "\n",
    "1. `math.ceil(x)`: 取 x 的最接近下一位整數\n",
    "2. `math.floor(x)`: 取 x 的最接近上一位整數\n",
    "3. `math.exp(x)`: 取 e 的 x 次方\n",
    "4. `math.log(x, base)`: 取以 base 為底，x 的對數\n",
    "5. `math.sin(x)`, `math.cos(x)`, `math.tan(x)`: 三角函數，x 要放的是弧度喔\n",
    "6. `math.radians(x)`: 取 x 的弧度\n",
    "7. `math.degrees(x)`: 取 x 的度數\n",
    "8. `math.pi`: python 裡面代表 𝛑 數值的變數\n",
    "\n",
    "還有非常多函數，可以自己去發掘喔～\n",
    "\n",
    "相關連結：\n",
    "\n",
    "- [math — Mathematical functions](https://docs.python.org/3/library/math.html)"
   ]
  },
  {
   "cell_type": "code",
   "execution_count": 4,
   "metadata": {},
   "outputs": [],
   "source": [
    "# 取 Ceiling 和 Floor"
   ]
  },
  {
   "cell_type": "code",
   "execution_count": null,
   "metadata": {},
   "outputs": [],
   "source": [
    "# 使用三角函數"
   ]
  }
 ],
 "metadata": {
  "kernelspec": {
   "display_name": "Python 3",
   "language": "python",
   "name": "python3"
  },
  "language_info": {
   "codemirror_mode": {
    "name": "ipython",
    "version": 3
   },
   "file_extension": ".py",
   "mimetype": "text/x-python",
   "name": "python",
   "nbconvert_exporter": "python",
   "pygments_lexer": "ipython3",
   "version": "3.7.4"
  }
 },
 "nbformat": 4,
 "nbformat_minor": 2
}
