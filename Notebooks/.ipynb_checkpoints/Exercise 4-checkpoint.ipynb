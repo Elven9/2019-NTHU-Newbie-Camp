{
 "cells": [
  {
   "cell_type": "markdown",
   "metadata": {},
   "source": [
    "# Exercise 4\n",
    "\n",
    "## Task 1:\n",
    "\n",
    "印出九九乘法表！大概長這樣\n",
    "\n",
    "```\n",
    "1x1 1x2 1x3 1x4 1x5 1x6 1x7 1x8 1x9\n",
    "2x1 2x2 2x3 2x4 2x5 2x6 2x7 2x8 2x9\n",
    "...\n",
    "...\n",
    "```\n",
    "\n",
    "hint: 要讓 print 不換行可以打這樣 `print(\"blablablabla...\", sep=\"\")`\n",
    "\n",
    "## Task 2:\n",
    "\n",
    "Write a Python program to find those numbers which are divisible by 7 and multiple of 5, between 1500 and 2700 (both included)\n",
    "\n",
    "## Difficult Task 1\n",
    "\n",
    "[Original Question](https://acm.cs.nthu.edu.tw/problem/11166/)\n",
    "\n",
    "### Description\n",
    "Given some integers, please list them in increasing order.\n",
    "\n",
    "#### Input\n",
    "\n",
    "Test case consists of two lines. First line is an integer n, and second line contains n integers V1, V2, ..., Vn. \n",
    "\n",
    "#### Output\n",
    "For each test case, list a line of numbers from the smallest one to the largest one ending with '\\n'. Two adjacent numbers in one line should be separated by a whitespace.\n",
    "\n",
    "#### Sample Input  \n",
    "\n",
    "```\n",
    "3\n",
    "1 3 2\n",
    "```\n",
    "\n",
    "#### Sample Output  \n",
    "\n",
    "```\n",
    "1 2 3\n",
    "```\n",
    "\n",
    "要怎麼一次讀入一整串字元並轉換成數字使用，可以參考 `str.split()` 和 `int()` 喔～\n",
    "\n",
    "- [split function](https://docs.python.org/3/library/stdtypes.html#str.split)"
   ]
  },
  {
   "cell_type": "code",
   "execution_count": null,
   "metadata": {},
   "outputs": [],
   "source": []
  }
 ],
 "metadata": {
  "kernelspec": {
   "display_name": "Python 3",
   "language": "python",
   "name": "python3"
  },
  "language_info": {
   "codemirror_mode": {
    "name": "ipython",
    "version": 3
   },
   "file_extension": ".py",
   "mimetype": "text/x-python",
   "name": "python",
   "nbconvert_exporter": "python",
   "pygments_lexer": "ipython3",
   "version": "3.7.4"
  }
 },
 "nbformat": 4,
 "nbformat_minor": 2
}
