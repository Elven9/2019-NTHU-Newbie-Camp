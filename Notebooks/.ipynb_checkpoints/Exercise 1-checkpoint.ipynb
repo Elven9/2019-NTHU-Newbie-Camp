{
 "cells": [
  {
   "cell_type": "code",
   "execution_count": 3,
   "metadata": {},
   "outputs": [],
   "source": [
    "# 記得要引入 math 喔～"
   ]
  },
  {
   "cell_type": "code",
   "execution_count": 1,
   "metadata": {},
   "outputs": [],
   "source": [
    "# Task 1: 計算長方形的面積\n",
    "width = 100\n",
    "height = 2342"
   ]
  },
  {
   "cell_type": "code",
   "execution_count": 2,
   "metadata": {},
   "outputs": [],
   "source": [
    "# Task 2: 計算圓面積\n",
    "radius = 234"
   ]
  },
  {
   "cell_type": "markdown",
   "metadata": {},
   "source": [
    "### Task 3\n",
    "\n",
    "Description\n",
    "There're tons of Chinese rap singers rising because of the Chinese TV-show \"The Rap Of China\".\n",
    "\n",
    "Hence they call 2017 \"The Hip-Hop Year\".\n",
    "\n",
    "Lots of fans imitate these remarkable rappers like PG One and GAI.\n",
    "\n",
    " \n",
    "\n",
    "PG One always wears 3 gold chains with 4 silver rings.\n",
    "\n",
    "GAI always wears 2 gold chains with 3 silver rings.\n",
    "\n",
    " \n",
    "\n",
    "Please calculate the fans number supporting each singer (PG One and GAI) by the above information and the formatted input like the following example.\n",
    "\n",
    "[Original Problem](https://acm.cs.nthu.edu.tw/problem/11542/)"
   ]
  },
  {
   "cell_type": "code",
   "execution_count": 5,
   "metadata": {},
   "outputs": [],
   "source": [
    "# Your Code Here\n",
    "gold_chains = 625\n",
    "silver_chains = 875"
   ]
  }
 ],
 "metadata": {
  "kernelspec": {
   "display_name": "Python 3",
   "language": "python",
   "name": "python3"
  },
  "language_info": {
   "codemirror_mode": {
    "name": "ipython",
    "version": 3
   },
   "file_extension": ".py",
   "mimetype": "text/x-python",
   "name": "python",
   "nbconvert_exporter": "python",
   "pygments_lexer": "ipython3",
   "version": "3.7.4"
  }
 },
 "nbformat": 4,
 "nbformat_minor": 2
}
