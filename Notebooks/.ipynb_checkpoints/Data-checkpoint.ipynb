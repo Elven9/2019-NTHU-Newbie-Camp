{
 "cells": [
  {
   "cell_type": "code",
   "execution_count": null,
   "metadata": {},
   "outputs": [],
   "source": [
    "import requests\n",
    "\n",
    "# 中央氣象局平台 API 相關設定\n",
    "BaseUrl = \"https://opendata.cwb.gov.tw/api\"\n",
    "DefaultQuery = {\n",
    "    \"Authorization\": \"CWB-BC9766BB-3B1E-4A57-8E9B-D73706D901B9\",\n",
    "    \"elementName\": [\"Wx\", \"AT\", \"T\", \"RH\", \"CI\", \"WeatherDescription\", \"PoP6h\"]\n",
    "}\n",
    "\n",
    "# Fetch Function\n",
    "def fetch(url, query=None):\n",
    "    # Construct Request\n",
    "    endPoint = BaseUrl + url\n",
    "    payload = {**query, **DefaultQuery} if query != None else DefaultQuery\n",
    "\n",
    "    # Make Request\n",
    "    res = get(endPoint, params=payload)\n",
    "\n",
    "    if (res.status_code == 200):\n",
    "        print(\"✅ 取得資料成功！\")\n",
    "        print(f\"Access Data From: {res.url}\\n\")\n",
    "        \n",
    "        return res.json()\n",
    "    else:\n",
    "        print(f\"{ESeq['info']}Request Failed, Forced To Exit.\")\n",
    "        exit()\n",
    "              \n",
    "fetch(\"/v1/rest/datastore/F-D0047-053\")"
   ]
  },
  {
   "cell_type": "code",
   "execution_count": null,
   "metadata": {},
   "outputs": [],
   "source": [
    "base_url = \"https://opendata.cwb.gov.tw/api\"\n",
    "\n",
    "raw_data = requests.get(\"\")"
   ]
  }
 ],
 "metadata": {
  "kernelspec": {
   "display_name": "Python 3",
   "language": "python",
   "name": "python3"
  },
  "language_info": {
   "codemirror_mode": {
    "name": "ipython",
    "version": 3
   },
   "file_extension": ".py",
   "mimetype": "text/x-python",
   "name": "python",
   "nbconvert_exporter": "python",
   "pygments_lexer": "ipython3",
   "version": "3.7.4"
  }
 },
 "nbformat": 4,
 "nbformat_minor": 2
}
