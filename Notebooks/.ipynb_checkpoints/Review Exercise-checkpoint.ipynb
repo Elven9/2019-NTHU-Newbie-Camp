{
 "cells": [
  {
   "cell_type": "markdown",
   "metadata": {},
   "source": [
    "# Review Exercise\n",
    "\n",
    "## Task 1\n",
    "\n",
    "[Original Question](https://acm.cs.nthu.edu.tw/problem/11549/)\n",
    "\n",
    "### Description\n",
    "The input is a 6-digit floating number N that consists of digits 1-9 except 0. For example, 156.854 is such a number. The task is to reverse the order of the digits of **integer part and decimal part respectively** to get a new six-digit floating number M, and compute the sum of the N and M. For example, **if N is 123.456, then M is 321.654, and the answer should be 445.110**.\n",
    "\n",
    "### Input\n",
    "A six-digit floating number consisting of 1-9 except 0\n",
    "\n",
    "### Output\n",
    "The sum of the input number and its reversal\n",
    "The answer should be expressed as a floating point number with precision to the three decimal place. For example, 445.110\n",
    "\n",
    "### 相關方法\n",
    "\n",
    "1. 在 Python 裡面，要把一個字串分開，可以使用 `split(seperator)`：\n",
    "\n",
    "```py\n",
    "# 一個字串\n",
    "input_str = \"12,34,232\"\n",
    "\n",
    "# 經過 split 轉換：\n",
    "str_list = input_str.split(\",\")\n",
    "print(str_list)      # [12, 34, 232]\n",
    "\n",
    "# 這樣也可以\n",
    "input_str = \"12 23 23\"\n",
    "str_list = input_str.split(\" \")\n",
    "print(str_list)      # [12, 23, 23]\n",
    "```\n",
    "\n",
    "2. Access Individual Character\n",
    "\n",
    "```py\n",
    "# 可以使用中括弧，使用方法就好像 list 一樣\n",
    "# 取用第 2 個字元：\n",
    "input_str = \"dog\"\n",
    "\n",
    "print(input_str[1])     # o\n",
    "```\n",
    "\n",
    "3. 還有別種方法，可以自己想想喔～\n",
    "\n",
    "---\n",
    "\n",
    "## Difficult Task 1\n",
    "\n",
    "[Original Question](https://acm.cs.nthu.edu.tw/problem/10786/)\n",
    "\n",
    "## Difficult Task 2\n",
    "\n",
    "[Original Question](https://acm.cs.nthu.edu.tw/problem/11592/)\n",
    "\n",
    "## Difficult Task 3\n",
    "\n",
    "[Original Question](https://acm.cs.nthu.edu.tw/problem/10772/)"
   ]
  },
  {
   "cell_type": "code",
   "execution_count": 3,
   "metadata": {},
   "outputs": [
    {
     "name": "stdout",
     "output_type": "stream",
     "text": [
      "123.456\n",
      "[<reversed object at 0x1099b3850>, <reversed object at 0x1099b3f50>]\n"
     ]
    }
   ],
   "source": [
    "data = input()\n",
    "\n",
    "split_result = data.split(\".\")\n",
    "\n",
    "split_result[0] = str(reversed(split_result[0]))\n",
    "split_result[1] = str(reversed(split_result[1]))\n",
    "\n",
    "print(split_result)\n",
    "\n"
   ]
  },
  {
   "cell_type": "code",
   "execution_count": null,
   "metadata": {},
   "outputs": [],
   "source": []
  }
 ],
 "metadata": {
  "kernelspec": {
   "display_name": "Python 3",
   "language": "python",
   "name": "python3"
  },
  "language_info": {
   "codemirror_mode": {
    "name": "ipython",
    "version": 3
   },
   "file_extension": ".py",
   "mimetype": "text/x-python",
   "name": "python",
   "nbconvert_exporter": "python",
   "pygments_lexer": "ipython3",
   "version": "3.7.4"
  }
 },
 "nbformat": 4,
 "nbformat_minor": 2
}
