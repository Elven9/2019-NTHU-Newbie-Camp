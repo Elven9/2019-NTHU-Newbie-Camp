{
 "cells": [
  {
   "cell_type": "markdown",
   "metadata": {},
   "source": [
    "# 迴圈\n",
    "\n",
    "## While 迴圈\n",
    "\n",
    "![While Loop](./WhileLoop.png)\n",
    "\n",
    "\n",
    "## For 迴圈\n",
    "\n",
    "![ForLoop](./ForLoop.png)\n",
    "\n",
    "* Typical Loop In C/C++\n",
    "\n",
    "## Break and Continue\n",
    "\n",
    "## Range 函式\n",
    "\n",
    "[Built-In Function - Range](https://docs.python.org/3/library/functions.html#func-range)\n",
    "\n",
    "## For Loop 進階用法\n",
    "\n",
    "- For Loop With List\n",
    "- For Loop With Dict\n",
    "- [Built-In Function - Zip](https://docs.python.org/3/library/functions.html#zip)\n",
    "- 串列生成式"
   ]
  },
  {
   "cell_type": "code",
   "execution_count": null,
   "metadata": {},
   "outputs": [],
   "source": []
  }
 ],
 "metadata": {
  "kernelspec": {
   "display_name": "Python 3",
   "language": "python",
   "name": "python3"
  },
  "language_info": {
   "codemirror_mode": {
    "name": "ipython",
    "version": 3
   },
   "file_extension": ".py",
   "mimetype": "text/x-python",
   "name": "python",
   "nbconvert_exporter": "python",
   "pygments_lexer": "ipython3",
   "version": "3.7.4"
  }
 },
 "nbformat": 4,
 "nbformat_minor": 2
}
