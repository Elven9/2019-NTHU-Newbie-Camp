{
 "cells": [
  {
   "cell_type": "code",
   "execution_count": 1,
   "metadata": {},
   "outputs": [
    {
     "name": "stdout",
     "output_type": "stream",
     "text": [
      "楊玉丞\n",
      "杜方辰\n",
      "羅心\n",
      "顏浩昀\n",
      "高以遐\n",
      "劉柔忞\n",
      "張筑鈞\n",
      "王鴻昱\n",
      "黃冠維\n",
      "莊涵盛\n",
      "王暐鈞\n",
      "王翊語(原:王怡儒)\n",
      "柳廷儒\n",
      "黃子瑋\n",
      "吳昀翰\n",
      "林湛悅\n",
      "曾至楷\n",
      "黃允暘\n",
      "鄒欣妍\n",
      "蔡濬鍇\n",
      "郭珈源\n",
      "林育丞\n",
      "黃翎玗\n",
      "鄭守維\n",
      "莊子郁\n"
     ]
    }
   ],
   "source": [
    "name_list = ['楊玉丞', '杜方辰', '羅心', '顏浩昀', '高以遐', '劉柔忞', '張筑鈞', '王鴻昱', '黃冠維', '莊涵盛', '王暐鈞', '王翊語(原:王怡儒)', '柳廷儒', '黃子瑋', '吳昀翰', '林湛悅', '曾至楷', '黃允暘', '鄒欣妍', '蔡濬鍇', '郭珈源', '林育丞', '黃翎玗', '鄭守維', '莊子郁']\n",
    "\n",
    "for name in name_list:\n",
    "    print(name)"
   ]
  },
  {
   "cell_type": "code",
   "execution_count": null,
   "metadata": {},
   "outputs": [],
   "source": []
  }
 ],
 "metadata": {
  "kernelspec": {
   "display_name": "Python 3",
   "language": "python",
   "name": "python3"
  },
  "language_info": {
   "codemirror_mode": {
    "name": "ipython",
    "version": 3
   },
   "file_extension": ".py",
   "mimetype": "text/x-python",
   "name": "python",
   "nbconvert_exporter": "python",
   "pygments_lexer": "ipython3",
   "version": "3.7.4"
  }
 },
 "nbformat": 4,
 "nbformat_minor": 2
}
