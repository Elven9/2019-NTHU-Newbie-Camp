{
 "cells": [
  {
   "cell_type": "markdown",
   "metadata": {},
   "source": [
    "# If / Else 邏輯判斷\n",
    "\n",
    "一個經典的判斷式：\n",
    "\n",
    "```py\n",
    "a = 5\n",
    "\n",
    "if a > 2:\n",
    "    print(\"a is greater than 2!\")\n",
    "else:\n",
    "    print(\"Oops, a is smaller or equal to 2\")\n",
    "```\n",
    "\n",
    "## Indentation 縮排\n",
    "\n",
    "## Bolean Type 布林型別\n",
    "\n",
    "- `True`: 代表成立\n",
    "- `False`: 代表不成立\n",
    "\n",
    "許多運算式得到的值都是布林值，可以放在 if 的判斷式中\n",
    "\n",
    "### Truth Table\n",
    "\n",
    "AND 的 Truth Table\n",
    "\n",
    "| Value 1 | Value 2 | Result |\n",
    "|---------|---------|--------|\n",
    "| True    | True    | True   |\n",
    "| True    | False   | False  |\n",
    "| False   | True    | False  |\n",
    "| False   | False   | False  |\n",
    "\n",
    "Or 的 Truth Table\n",
    "\n",
    "| Value 1 | Value 2 | Result |\n",
    "|---------|---------|--------|\n",
    "| True    | True    | True   |\n",
    "| True    | False   | True   |\n",
    "| False   | True    | True   |\n",
    "| False   | False   | False  |\n",
    "\n",
    "## Logic Operator\n",
    "\n",
    "就跟剛剛數學式中的 +, -, *, / 一樣，邏輯中的大於小於也有相對應的運算符號\n",
    "\n",
    "- `>`, `<`: 大於 / 小於\n",
    "- `>=`, `<=`: 大於等於 / 小於等於\n",
    "- `==`: 測試相等\n",
    "- `()`: 括弧，跟剛剛一樣，用於增高執行順序\n",
    "\n",
    "其中有三個比較特別，是用來比較兩個或一個運算式的結果：\n",
    "\n",
    "- `and`: 邏輯上的**和**\n",
    "- `or`: 邏輯上的**或**\n",
    "- `not`: 邏輯上的**否**\n",
    "\n",
    "## 三種條件\n",
    "\n",
    "這時候就可以用 `elif` 囉！"
   ]
  },
  {
   "cell_type": "code",
   "execution_count": null,
   "metadata": {},
   "outputs": [],
   "source": [
    "a = 5\n",
    "\n",
    "if a > 2:\n",
    "    print(\"a is greater than 2!\")\n",
    "else:\n",
    "    print(\"Oops, a is smaller or equal to 2\")"
   ]
  },
  {
   "cell_type": "code",
   "execution_count": null,
   "metadata": {},
   "outputs": [],
   "source": [
    "# True 和 False"
   ]
  },
  {
   "cell_type": "code",
   "execution_count": null,
   "metadata": {},
   "outputs": [],
   "source": [
    "# Operator >, <"
   ]
  },
  {
   "cell_type": "code",
   "execution_count": null,
   "metadata": {},
   "outputs": [],
   "source": [
    "# Operator >=, <="
   ]
  },
  {
   "cell_type": "code",
   "execution_count": null,
   "metadata": {},
   "outputs": [],
   "source": [
    "# Operator =="
   ]
  },
  {
   "cell_type": "code",
   "execution_count": null,
   "metadata": {},
   "outputs": [],
   "source": [
    "# Parentheses ()"
   ]
  },
  {
   "cell_type": "code",
   "execution_count": null,
   "metadata": {},
   "outputs": [],
   "source": [
    "# and"
   ]
  },
  {
   "cell_type": "code",
   "execution_count": null,
   "metadata": {},
   "outputs": [],
   "source": [
    "# or"
   ]
  },
  {
   "cell_type": "code",
   "execution_count": null,
   "metadata": {},
   "outputs": [],
   "source": [
    "# not"
   ]
  },
  {
   "cell_type": "code",
   "execution_count": null,
   "metadata": {},
   "outputs": [],
   "source": [
    "# 判斷運算式"
   ]
  },
  {
   "cell_type": "code",
   "execution_count": null,
   "metadata": {},
   "outputs": [],
   "source": [
    "# 基偶數判斷"
   ]
  },
  {
   "cell_type": "code",
   "execution_count": 1,
   "metadata": {},
   "outputs": [],
   "source": [
    "# 三個條件判斷"
   ]
  },
  {
   "cell_type": "code",
   "execution_count": null,
   "metadata": {},
   "outputs": [],
   "source": [
    "# Nested If Else"
   ]
  }
 ],
 "metadata": {
  "kernelspec": {
   "display_name": "Python 3",
   "language": "python",
   "name": "python3"
  },
  "language_info": {
   "codemirror_mode": {
    "name": "ipython",
    "version": 3
   },
   "file_extension": ".py",
   "mimetype": "text/x-python",
   "name": "python",
   "nbconvert_exporter": "python",
   "pygments_lexer": "ipython3",
   "version": "3.7.4"
  }
 },
 "nbformat": 4,
 "nbformat_minor": 2
}
